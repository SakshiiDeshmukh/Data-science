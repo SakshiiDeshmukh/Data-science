{
 "cells": [
  {
   "cell_type": "markdown",
   "id": "555f7b84",
   "metadata": {},
   "source": [
    "# Assignment 2 SET 4"
   ]
  },
  {
   "cell_type": "code",
   "execution_count": 18,
   "id": "1a429cf4",
   "metadata": {},
   "outputs": [],
   "source": [
    "import pandas as pd\n",
    "import numpy as np\n",
    "import matplotlib.pyplot as plt\n",
    "import scipy.stats as stats\n",
    "import seaborn as sns\n",
    "import statsmodels.api as smf\n",
    "import warnings\n",
    "from scipy import stats\n",
    "warnings.filterwarnings('ignore')"
   ]
  },
  {
   "cell_type": "markdown",
   "id": "2defc643",
   "metadata": {},
   "source": [
    "# Q.3"
   ]
  },
  {
   "cell_type": "markdown",
   "id": "3a96da6a",
   "metadata": {},
   "source": [
    "if the mean transaction amount of the sample is between $45 and $55. What is the probability that in any given week, there will be an investigation?"
   ]
  },
  {
   "cell_type": "code",
   "execution_count": 61,
   "id": "4d60f12c",
   "metadata": {},
   "outputs": [],
   "source": [
    "#As no. of samples is more than 30, we can consider it normal distribution\n",
    "mean = 50\n",
    "std = 40\n",
    "n = 100"
   ]
  },
  {
   "cell_type": "code",
   "execution_count": 53,
   "id": "a52707eb",
   "metadata": {},
   "outputs": [
    {
     "data": {
      "text/plain": [
       "-1.25"
      ]
     },
     "execution_count": 53,
     "metadata": {},
     "output_type": "execute_result"
    }
   ],
   "source": [
    "#For the lower limit of $45, we have:\n",
    "lower= (45-50)/(40/np.sqrt(100))\n",
    "lower"
   ]
  },
  {
   "cell_type": "code",
   "execution_count": 54,
   "id": "24b3cd19",
   "metadata": {},
   "outputs": [
    {
     "data": {
      "text/plain": [
       "1.25"
      ]
     },
     "execution_count": 54,
     "metadata": {},
     "output_type": "execute_result"
    }
   ],
   "source": [
    "#For the upper limit of $50, we have:\n",
    "upper= (55-50)/(40/np.sqrt(100))\n",
    "upper"
   ]
  },
  {
   "cell_type": "code",
   "execution_count": 56,
   "id": "1577ed55",
   "metadata": {},
   "outputs": [
    {
     "data": {
      "text/plain": [
       "0.10564977366685535"
      ]
     },
     "execution_count": 56,
     "metadata": {},
     "output_type": "execute_result"
    }
   ],
   "source": [
    "z_45=stats.norm.cdf(-1.25)\n",
    "z_45"
   ]
  },
  {
   "cell_type": "code",
   "execution_count": 59,
   "id": "02ab1cef",
   "metadata": {},
   "outputs": [
    {
     "data": {
      "text/plain": [
       "0.10564977366685535"
      ]
     },
     "execution_count": 59,
     "metadata": {},
     "output_type": "execute_result"
    }
   ],
   "source": [
    "z_55= 1-stats.norm.cdf(1.25)\n",
    "z_55"
   ]
  },
  {
   "cell_type": "code",
   "execution_count": 60,
   "id": "4babd59d",
   "metadata": {},
   "outputs": [
    {
     "data": {
      "text/plain": [
       "21.129954733371072"
      ]
     },
     "execution_count": 60,
     "metadata": {},
     "output_type": "execute_result"
    }
   ],
   "source": [
    "prob=(z_45+ z_55)*100\n",
    "prob"
   ]
  },
  {
   "cell_type": "markdown",
   "id": "0c3d880e",
   "metadata": {},
   "source": [
    "Ans: The probability of investigation is 21.12%"
   ]
  },
  {
   "cell_type": "markdown",
   "id": "b4458389",
   "metadata": {},
   "source": [
    "# Q.4"
   ]
  },
  {
   "cell_type": "code",
   "execution_count": null,
   "id": "5b69a189",
   "metadata": {},
   "outputs": [],
   "source": []
  }
 ],
 "metadata": {
  "kernelspec": {
   "display_name": "Python 3 (ipykernel)",
   "language": "python",
   "name": "python3"
  },
  "language_info": {
   "codemirror_mode": {
    "name": "ipython",
    "version": 3
   },
   "file_extension": ".py",
   "mimetype": "text/x-python",
   "name": "python",
   "nbconvert_exporter": "python",
   "pygments_lexer": "ipython3",
   "version": "3.9.13"
  }
 },
 "nbformat": 4,
 "nbformat_minor": 5
}
