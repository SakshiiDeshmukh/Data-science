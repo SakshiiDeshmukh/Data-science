{
 "cells": [
  {
   "cell_type": "markdown",
   "id": "a89f3e90",
   "metadata": {},
   "source": [
    "# Assignment 2_SET2"
   ]
  },
  {
   "cell_type": "code",
   "execution_count": 74,
   "id": "62ee986f",
   "metadata": {},
   "outputs": [],
   "source": [
    "from scipy import stats\n",
    "from scipy.stats import norm\n",
    "import numpy as np"
   ]
  },
  {
   "cell_type": "markdown",
   "id": "9667961a",
   "metadata": {},
   "source": [
    "# Q.1\n",
    "\n",
    "\n",
    "Ans:"
   ]
  },
  {
   "cell_type": "raw",
   "id": "1ff68cd0",
   "metadata": {},
   "source": [
    "The work begin after 10 min, so the average time increase from 45min to 55min."
   ]
  },
  {
   "cell_type": "code",
   "execution_count": 7,
   "id": "e049874b",
   "metadata": {},
   "outputs": [
    {
     "data": {
      "text/plain": [
       "0.625"
      ]
     },
     "execution_count": 7,
     "metadata": {},
     "output_type": "execute_result"
    }
   ],
   "source": [
    "#for normal distribution z = (X-μ)/б\n",
    "z =(60-55)/8\n",
    "z"
   ]
  },
  {
   "cell_type": "code",
   "execution_count": 26,
   "id": "2e907a27",
   "metadata": {
    "scrolled": true
   },
   "outputs": [
    {
     "data": {
      "text/plain": [
       "0.26598552904870054"
      ]
     },
     "execution_count": 26,
     "metadata": {},
     "output_type": "execute_result"
    }
   ],
   "source": [
    "#As we want to find the probability of service manager cannot meet his commitment,\n",
    "#P(X>50) = 1-stats.norm.cdf(abs(z_score)) or 1-stats.norm.cdf(60, loc = mean, scale = std)\n",
    "1-stats.norm.cdf(60, loc = 55, scale = 8)"
   ]
  },
  {
   "cell_type": "markdown",
   "id": "26a780bc",
   "metadata": {},
   "source": [
    "Inference: The probability that the service manager cannot meet his commitment is 0.26599"
   ]
  },
  {
   "cell_type": "markdown",
   "id": "94b90eeb",
   "metadata": {},
   "source": [
    "# Q.2\n",
    "\n",
    "\n",
    "Ans:"
   ]
  },
  {
   "cell_type": "code",
   "execution_count": 66,
   "id": "8422a632",
   "metadata": {},
   "outputs": [
    {
     "data": {
      "text/plain": [
       "50.0"
      ]
     },
     "execution_count": 66,
     "metadata": {},
     "output_type": "execute_result"
    }
   ],
   "source": [
    "#Z score for 38\n",
    "lessthan_38 = stats.norm.cdf(38, loc = 38, scale = 6)\n",
    "np.round(lessthan_38*100,2)"
   ]
  },
  {
   "cell_type": "code",
   "execution_count": 69,
   "id": "d162e5bc",
   "metadata": {},
   "outputs": [
    {
     "data": {
      "text/plain": [
       "84.13"
      ]
     },
     "execution_count": 69,
     "metadata": {},
     "output_type": "execute_result"
    }
   ],
   "source": [
    "#Z score for 44\n",
    "lessthan_44 = stats.norm.cdf(44, loc = 38, scale = 6)\n",
    "np.round(lessthan_44*100,2)"
   ]
  },
  {
   "cell_type": "code",
   "execution_count": 70,
   "id": "ea678bb5",
   "metadata": {},
   "outputs": [
    {
     "data": {
      "text/plain": [
       "34.13"
      ]
     },
     "execution_count": 70,
     "metadata": {},
     "output_type": "execute_result"
    }
   ],
   "source": [
    "#Hence People between 38 & 44  age\n",
    "between38_44=stats.norm.cdf(44,38,6)-stats.norm.cdf(38,38,6)\n",
    "np.round(between38_44*100,2)"
   ]
  },
  {
   "cell_type": "markdown",
   "id": "baddcec6",
   "metadata": {},
   "source": [
    "Inference: statement A is False as Probability of employees aged between 38 to 44 is more."
   ]
  },
  {
   "cell_type": "code",
   "execution_count": 72,
   "id": "ce4535e8",
   "metadata": {},
   "outputs": [
    {
     "data": {
      "text/plain": [
       "36.48"
      ]
     },
     "execution_count": 72,
     "metadata": {},
     "output_type": "execute_result"
    }
   ],
   "source": [
    "# A training program for employees under the age of 30 at the center would be expected to attract about 36 employees.\n",
    "under_30=stats.norm.cdf(30,38,6)\n",
    "np.round(under_30*400,2)"
   ]
  },
  {
   "cell_type": "markdown",
   "id": "53a05019",
   "metadata": {},
   "source": [
    "Inference: statement B is True as no. of employees aged below 33 yrs attending training is 36"
   ]
  },
  {
   "cell_type": "markdown",
   "id": "3f7ebbdc",
   "metadata": {},
   "source": [
    "# Q.3\n",
    "\n",
    "Ans:"
   ]
  },
  {
   "cell_type": "markdown",
   "id": "40ad19a1",
   "metadata": {},
   "source": [
    "\n",
    "If X1 ~ N(μ, σ2) and X2 ~ N(μ, σ2) are iid normal random variables,\n",
    "then what is the difference between 2 X1 and X1 + X2"
   ]
  },
  {
   "cell_type": "code",
   "execution_count": 159,
   "id": "64bbd770",
   "metadata": {},
   "outputs": [],
   "source": [
    "# The mean of  2X1 & X1 + X2 is same but the variance σ2 of 2X1 is 2 times more than variance of  X1 + X\n",
    "# The difference between the two says that the two given variables are identically and independently distributed"
   ]
  },
  {
   "cell_type": "markdown",
   "id": "1c3a4321",
   "metadata": {},
   "source": [
    "# Q.4\n",
    "\n",
    "Ans:"
   ]
  },
  {
   "cell_type": "code",
   "execution_count": 153,
   "id": "045e97e9",
   "metadata": {},
   "outputs": [
    {
     "data": {
      "text/plain": [
       "(48.48341392902199, 151.516586070978)"
      ]
     },
     "execution_count": 153,
     "metadata": {},
     "output_type": "execute_result"
    }
   ],
   "source": [
    "value_A_B= stats.norm.interval(0.99, loc=100, scale=20)\n",
    "value_A_B"
   ]
  },
  {
   "cell_type": "markdown",
   "id": "1fb22bec",
   "metadata": {},
   "source": [
    "Inference: The two values of a and b,the probability of the random variable taking a value between them is 0.99: 48.5_151.5"
   ]
  },
  {
   "cell_type": "markdown",
   "id": "c593fbb0",
   "metadata": {},
   "source": [
    "# Q.5\n",
    "\n",
    "Ans:"
   ]
  },
  {
   "attachments": {},
   "cell_type": "markdown",
   "id": "cfe01fd2",
   "metadata": {},
   "source": [
    "A) Specify a Rupee range (centered on the mean) such that it contains 95% probability for the annual profit of the company.\n",
    "\n",
    "Profit1 ~ N(5, 3^2) and Profit2 ~ N(7, 4^2)"
   ]
  },
  {
   "cell_type": "code",
   "execution_count": 99,
   "id": "b1d1a5c3",
   "metadata": {},
   "outputs": [
    {
     "name": "stdout",
     "output_type": "stream",
     "text": [
      "Mean Profit is 54.0 Crore Rupees\n"
     ]
    }
   ],
   "source": [
    "# Mean profits from two different divisions of a company = Mean1 + Mean2\n",
    "Mean = 5+7\n",
    "print('Mean Profit is',(Mean*45)/10, 'Crore Rupees')\n"
   ]
  },
  {
   "cell_type": "code",
   "execution_count": 100,
   "id": "e5776b72",
   "metadata": {},
   "outputs": [
    {
     "name": "stdout",
     "output_type": "stream",
     "text": [
      "Standard Deviation is  22.5 Crore Rupees\n"
     ]
    }
   ],
   "source": [
    "#variance of two independent random variables.\n",
    "SD = np.sqrt((9)+(16)) \n",
    "print('Standard Deviation is ',(SD*45)/10, 'Crore Rupees')"
   ]
  },
  {
   "cell_type": "code",
   "execution_count": 101,
   "id": "c5a8381f",
   "metadata": {},
   "outputs": [
    {
     "name": "stdout",
     "output_type": "stream",
     "text": [
      "Range is (9.900810347848783, 98.09918965215121) crore Rupees\n"
     ]
    }
   ],
   "source": [
    "#Rupee range,it contains 95% probability for the annual profit of the company.\n",
    "print('Range is',(stats.norm.interval(0.95,54.0,22.5)),'crore Rupees')"
   ]
  },
  {
   "cell_type": "markdown",
   "id": "3884fbaf",
   "metadata": {},
   "source": [
    "B) Specify the 5th percentile of profit (in Rupees) for the company"
   ]
  },
  {
   "cell_type": "code",
   "execution_count": 102,
   "id": "ab59fe5b",
   "metadata": {},
   "outputs": [],
   "source": [
    "#for 5th% of profit,we use the percent point function"
   ]
  },
  {
   "cell_type": "code",
   "execution_count": 123,
   "id": "450f8927",
   "metadata": {},
   "outputs": [
    {
     "name": "stdout",
     "output_type": "stream",
     "text": [
      "17.0 crore Rupees\n"
     ]
    }
   ],
   "source": [
    "percentile_5th = stats.norm.ppf(0.05, 54.0,22.5)\n",
    "print(np.round(percentile_5th,),'crore Rupees')"
   ]
  },
  {
   "cell_type": "markdown",
   "id": "a2d94b7b",
   "metadata": {},
   "source": [
    "C) Which of the two divisions has a larger probability of making a loss in a given year?"
   ]
  },
  {
   "cell_type": "code",
   "execution_count": 129,
   "id": "b972fcce",
   "metadata": {},
   "outputs": [
    {
     "data": {
      "text/plain": [
       "4.78"
      ]
     },
     "execution_count": 129,
     "metadata": {},
     "output_type": "execute_result"
    }
   ],
   "source": [
    "# The probability of Division #1 making a loss\n",
    "np.round((stats.norm.cdf(0,5,3))*100,2)"
   ]
  },
  {
   "cell_type": "code",
   "execution_count": 130,
   "id": "25adca36",
   "metadata": {},
   "outputs": [
    {
     "data": {
      "text/plain": [
       "4.01"
      ]
     },
     "execution_count": 130,
     "metadata": {},
     "output_type": "execute_result"
    }
   ],
   "source": [
    "# The probability of Division #2 making a loss\n",
    "np.round((stats.norm.cdf(0,7,4))*100,2)"
   ]
  },
  {
   "cell_type": "markdown",
   "id": "1f7a5ccf",
   "metadata": {},
   "source": [
    "Inference: Probability of Division 1 making a loss in a given year is more than Division 2."
   ]
  },
  {
   "cell_type": "code",
   "execution_count": null,
   "id": "c77e9f6c",
   "metadata": {},
   "outputs": [],
   "source": []
  }
 ],
 "metadata": {
  "kernelspec": {
   "display_name": "Python 3 (ipykernel)",
   "language": "python",
   "name": "python3"
  },
  "language_info": {
   "codemirror_mode": {
    "name": "ipython",
    "version": 3
   },
   "file_extension": ".py",
   "mimetype": "text/x-python",
   "name": "python",
   "nbconvert_exporter": "python",
   "pygments_lexer": "ipython3",
   "version": "3.9.13"
  }
 },
 "nbformat": 4,
 "nbformat_minor": 5
}
