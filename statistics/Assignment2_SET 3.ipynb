{
 "cells": [
  {
   "cell_type": "code",
   "execution_count": 15,
   "id": "c4fb3f4a",
   "metadata": {},
   "outputs": [],
   "source": [
    "import numpy as np\n",
    "from scipy import stats\n",
    "from scipy.stats import norm"
   ]
  },
  {
   "cell_type": "markdown",
   "id": "dac4bf6f",
   "metadata": {},
   "source": [
    "\n",
    "# Q.5"
   ]
  },
  {
   "cell_type": "markdown",
   "id": "605fd0ac",
   "metadata": {},
   "source": [
    "If the sample were based on 2,000 users, could Microsoft conclude that Mozilla has a less than 5% share of the market\n",
    "\n",
    "\n",
    "Ans:"
   ]
  },
  {
   "cell_type": "code",
   "execution_count": 16,
   "id": "6535940f",
   "metadata": {},
   "outputs": [],
   "source": [
    "# Define the sample size, sample proportion, and hypothesized population proportion\n",
    "n = 2000 #sample size\n",
    "p = 0.046 #sample_prop 4.6% expressed as a decimal\n",
    "p_null = 0.05 #5% expressed as a decimal\n"
   ]
  },
  {
   "cell_type": "code",
   "execution_count": 18,
   "id": "96e188ac",
   "metadata": {},
   "outputs": [
    {
     "name": "stdout",
     "output_type": "stream",
     "text": [
      "-0.820782681668124\n"
     ]
    }
   ],
   "source": [
    "# Calculate the z-score\n",
    "#z = (sample_prop - null_prop) / math.sqrt(null_prop * (1 - null_prop) / n)\n",
    "z = (0.046 - 0.05) / np.sqrt(0.05 * (1 - 0.05) / 2000)\n",
    "print(z)"
   ]
  },
  {
   "cell_type": "markdown",
   "id": "a1ddacd2",
   "metadata": {},
   "source": [
    "Therefore,  z-test statistics is -0.821.\n",
    "Now, the level of significance at 5 percent, the z table will give the critical value of -1.96 to the left-tailed test.\n",
    "\n",
    "-0.820 > -1.96 ;\n",
    "\n",
    "Thus we don't have sufficient evidence to reject the null hypothesis \n",
    "\n",
    "So we can conclude that the Mozilla has equal to 5%  or more than 5 % share of the market."
   ]
  },
  {
   "cell_type": "code",
   "execution_count": null,
   "id": "54729399",
   "metadata": {},
   "outputs": [],
   "source": []
  }
 ],
 "metadata": {
  "kernelspec": {
   "display_name": "Python 3 (ipykernel)",
   "language": "python",
   "name": "python3"
  },
  "language_info": {
   "codemirror_mode": {
    "name": "ipython",
    "version": 3
   },
   "file_extension": ".py",
   "mimetype": "text/x-python",
   "name": "python",
   "nbconvert_exporter": "python",
   "pygments_lexer": "ipython3",
   "version": "3.9.13"
  }
 },
 "nbformat": 4,
 "nbformat_minor": 5
}
