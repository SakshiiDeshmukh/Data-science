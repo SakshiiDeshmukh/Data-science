{
 "cells": [
  {
   "cell_type": "markdown",
   "id": "71ef89e6",
   "metadata": {},
   "source": [
    "# Hypothesis Assignment"
   ]
  },
  {
   "cell_type": "code",
   "execution_count": 1,
   "id": "b920c417",
   "metadata": {},
   "outputs": [],
   "source": [
    "import scipy.stats as stats\n",
    "import statsmodels.api as sm\n",
    "import numpy as np\n",
    "import pandas as pd\n",
    "import warnings\n",
    "warnings.filterwarnings(\"ignore\")\n",
    "from PIL import ImageGrab\n",
    "import matplotlib.pyplot as plt\n",
    "import seaborn as sns"
   ]
  },
  {
   "cell_type": "markdown",
   "id": "4ecaf2e5",
   "metadata": {},
   "source": [
    "# Q1"
   ]
  },
  {
   "cell_type": "markdown",
   "id": "7da61828",
   "metadata": {},
   "source": [
    "A F&B manager wants to determine whether there is any significant difference in the diameter of the cutlet between two units. A randomly selected sample of cutlets was collected from both units and measured? Analyze the data and draw inferences at 5% significance level. Please state the assumptions and tests that you carried out to check validity of the assumptions.\n"
   ]
  },
  {
   "cell_type": "code",
   "execution_count": null,
   "id": "f5427765",
   "metadata": {},
   "outputs": [],
   "source": [
    "cutlets=pd.read_csv(\"cutlets.csv\")\n",
    "cutlets.head(10)"
   ]
  },
  {
   "cell_type": "markdown",
   "id": "fbda118a",
   "metadata": {},
   "source": [
    "### We are going to conduct a 2 tailed t-Test on 2 Independent samples with Numerical Data\n",
    "H0 : There is no significant difference in the diameter of cutlet between two units\n",
    "\n",
    "H1 : There is a significant differnce in the diameter of cutlet between two units\n",
    "\n",
    "LOS : 5%\n",
    "\n",
    "Significance 5%\n",
    "\n",
    "alpha = 0.05\n",
    "\n",
    "As it is a two-tailed test\n",
    "\n",
    "alpha/2 = 0.025"
   ]
  },
  {
   "cell_type": "code",
   "execution_count": null,
   "id": "b1dc4fcf",
   "metadata": {},
   "outputs": [],
   "source": [
    "cutlets.info()"
   ]
  },
  {
   "cell_type": "code",
   "execution_count": null,
   "id": "f4bb7fc1",
   "metadata": {},
   "outputs": [],
   "source": [
    "cutlets.duplicated()"
   ]
  },
  {
   "cell_type": "markdown",
   "id": "84aa5a1e",
   "metadata": {},
   "source": [
    "# UNIT A"
   ]
  },
  {
   "cell_type": "code",
   "execution_count": null,
   "id": "c30a1e97",
   "metadata": {},
   "outputs": [],
   "source": [
    "unit_A=cutlets[\"Unit A\"]\n",
    "unit_A.head(10)"
   ]
  },
  {
   "cell_type": "code",
   "execution_count": null,
   "id": "df3d0e25",
   "metadata": {},
   "outputs": [],
   "source": [
    "unit_A.describe()"
   ]
  },
  {
   "cell_type": "markdown",
   "id": "eefc313f",
   "metadata": {},
   "source": [
    "# UNIT B"
   ]
  },
  {
   "cell_type": "code",
   "execution_count": null,
   "id": "5b7cbd04",
   "metadata": {},
   "outputs": [],
   "source": [
    "unit_B=cutlets[\"Unit B\"]\n",
    "unit_B.head(10)"
   ]
  },
  {
   "cell_type": "code",
   "execution_count": null,
   "id": "6f05a111",
   "metadata": {},
   "outputs": [],
   "source": [
    "unit_B.describe()"
   ]
  },
  {
   "cell_type": "markdown",
   "id": "27166f74",
   "metadata": {},
   "source": [
    "## Observation\n",
    "As the mean of Unit A and Unit B are equal there is no significant difference between the units P_Value"
   ]
  },
  {
   "cell_type": "markdown",
   "id": "234a0727",
   "metadata": {},
   "source": [
    "### Hypothesis using t-statistics\n",
    "Compare p_value with\n",
    "\n",
    " (Significane Level)\n",
    " \n",
    "If p_value is > alpha \n",
    " ' we accept null Hypothesis\n",
    " \n",
    "If p_value is < alpha\n",
    " 'we reject Null Hypothesis\n",
    " \n",
    "H0 : There is no significant difference in the diameter of cutlet between two units\n",
    "\n",
    "H1 : There is a significant differnce in the diameter of cutlet between two units\n"
   ]
  },
  {
   "cell_type": "code",
   "execution_count": null,
   "id": "20683cfc",
   "metadata": {},
   "outputs": [],
   "source": [
    "p_value=stats.ttest_ind(cutlets['Unit A'],cutlets['Unit B'])\n",
    "p_value"
   ]
  },
  {
   "cell_type": "markdown",
   "id": "d122fcca",
   "metadata": {},
   "source": [
    "### Inferences:\n",
    "Hence, We fail to reject Null Hypothesis,\n",
    "there is no significant difference between the two samples"
   ]
  },
  {
   "cell_type": "markdown",
   "id": "ac146afb",
   "metadata": {},
   "source": [
    "# Q2\n",
    "A hospital wants to determine whether there is any difference in the average Turn Around Time (TAT) of reports of the laboratories on their preferred list. They collected a random sample and recorded TAT for reports of 4 laboratories. TAT is defined as sample collected to report dispatch.\n",
    "\n",
    "Analyze the data and determine whether there is any difference in average TAT among the different laboratories at 5% significance level."
   ]
  },
  {
   "cell_type": "markdown",
   "id": "4f416994",
   "metadata": {},
   "source": [
    "H0 : There is no significant difference in average Turn Around Time of different laboratories\n",
    "\n",
    "H1 : There is a significant differnce in the average Turn Around Time of differnt laboratories\n",
    "\n",
    "5% significance level"
   ]
  },
  {
   "cell_type": "markdown",
   "id": "759929d7",
   "metadata": {},
   "source": [
    "### We are going to conduct a ANOVA Test on 4 Independent samples"
   ]
  },
  {
   "cell_type": "code",
   "execution_count": null,
   "id": "c64b0136",
   "metadata": {},
   "outputs": [],
   "source": [
    "Lab=pd.read_csv(\"labt\")\n",
    "Lab.head(10)\n",
    "Lab.describe()"
   ]
  },
  {
   "cell_type": "markdown",
   "id": "14b584f8",
   "metadata": {},
   "source": [
    "### Observation\n",
    "From the above analysis we can see that mean values of 4 different laboratories are not same"
   ]
  },
  {
   "cell_type": "code",
   "execution_count": null,
   "id": "2322b457",
   "metadata": {},
   "outputs": [],
   "source": [
    "Lab.info()"
   ]
  },
  {
   "cell_type": "code",
   "execution_count": null,
   "id": "733c49c0",
   "metadata": {},
   "outputs": [],
   "source": [
    "Lab.duplicated()"
   ]
  },
  {
   "cell_type": "markdown",
   "id": "c26b85fa",
   "metadata": {},
   "source": [
    "### ANOVA Test"
   ]
  },
  {
   "cell_type": "code",
   "execution_count": null,
   "id": "901f6e8a",
   "metadata": {},
   "outputs": [],
   "source": [
    "p_value = stats.f_oneway( Lab[\"Laboratory 1\"],Lab[\"Laboratory 2\"],Lab[\"Laboratory 3\"],Lab[\"Laboratory 4\"])\n",
    "print('p_value =',p_value)"
   ]
  },
  {
   "cell_type": "markdown",
   "id": "3dd89d0d",
   "metadata": {},
   "source": [
    "### Inferences:\n",
    "There is a significant differnce in the average Turn Around Time of 4 laboratories, we reject null hypothesis"
   ]
  },
  {
   "cell_type": "markdown",
   "id": "82a50b96",
   "metadata": {},
   "source": [
    "# Q3"
   ]
  },
  {
   "cell_type": "markdown",
   "id": "2811b0f8",
   "metadata": {},
   "source": [
    "Sales of products in four different regions is tabulated for males and females. Find if male-female buyer rations are similar across regions."
   ]
  },
  {
   "cell_type": "markdown",
   "id": "5def21a9",
   "metadata": {},
   "source": [
    "### Hypothesis Testing\n",
    "H0 : Not all proportions are equal\n",
    "\n",
    "H1 : All proportions are equal\n",
    "\n",
    "5% significance level"
   ]
  },
  {
   "cell_type": "markdown",
   "id": "2fb0cbf1",
   "metadata": {},
   "source": [
    "### We are going to conduct a Test of Independence using Chi-Square Test "
   ]
  },
  {
   "cell_type": "code",
   "execution_count": 10,
   "id": "71cadef3",
   "metadata": {},
   "outputs": [
    {
     "data": {
      "text/html": [
       "<div>\n",
       "<style scoped>\n",
       "    .dataframe tbody tr th:only-of-type {\n",
       "        vertical-align: middle;\n",
       "    }\n",
       "\n",
       "    .dataframe tbody tr th {\n",
       "        vertical-align: top;\n",
       "    }\n",
       "\n",
       "    .dataframe thead th {\n",
       "        text-align: right;\n",
       "    }\n",
       "</style>\n",
       "<table border=\"1\" class=\"dataframe\">\n",
       "  <thead>\n",
       "    <tr style=\"text-align: right;\">\n",
       "      <th></th>\n",
       "      <th>East</th>\n",
       "      <th>West</th>\n",
       "      <th>North</th>\n",
       "      <th>South</th>\n",
       "    </tr>\n",
       "  </thead>\n",
       "  <tbody>\n",
       "    <tr>\n",
       "      <th>count</th>\n",
       "      <td>2.000000</td>\n",
       "      <td>2.000000</td>\n",
       "      <td>2.000000</td>\n",
       "      <td>2.000000</td>\n",
       "    </tr>\n",
       "    <tr>\n",
       "      <th>mean</th>\n",
       "      <td>242.500000</td>\n",
       "      <td>832.500000</td>\n",
       "      <td>743.500000</td>\n",
       "      <td>410.000000</td>\n",
       "    </tr>\n",
       "    <tr>\n",
       "      <th>std</th>\n",
       "      <td>272.236111</td>\n",
       "      <td>976.514465</td>\n",
       "      <td>866.205807</td>\n",
       "      <td>480.832611</td>\n",
       "    </tr>\n",
       "    <tr>\n",
       "      <th>min</th>\n",
       "      <td>50.000000</td>\n",
       "      <td>142.000000</td>\n",
       "      <td>131.000000</td>\n",
       "      <td>70.000000</td>\n",
       "    </tr>\n",
       "    <tr>\n",
       "      <th>25%</th>\n",
       "      <td>146.250000</td>\n",
       "      <td>487.250000</td>\n",
       "      <td>437.250000</td>\n",
       "      <td>240.000000</td>\n",
       "    </tr>\n",
       "    <tr>\n",
       "      <th>50%</th>\n",
       "      <td>242.500000</td>\n",
       "      <td>832.500000</td>\n",
       "      <td>743.500000</td>\n",
       "      <td>410.000000</td>\n",
       "    </tr>\n",
       "    <tr>\n",
       "      <th>75%</th>\n",
       "      <td>338.750000</td>\n",
       "      <td>1177.750000</td>\n",
       "      <td>1049.750000</td>\n",
       "      <td>580.000000</td>\n",
       "    </tr>\n",
       "    <tr>\n",
       "      <th>max</th>\n",
       "      <td>435.000000</td>\n",
       "      <td>1523.000000</td>\n",
       "      <td>1356.000000</td>\n",
       "      <td>750.000000</td>\n",
       "    </tr>\n",
       "  </tbody>\n",
       "</table>\n",
       "</div>"
      ],
      "text/plain": [
       "             East         West        North       South\n",
       "count    2.000000     2.000000     2.000000    2.000000\n",
       "mean   242.500000   832.500000   743.500000  410.000000\n",
       "std    272.236111   976.514465   866.205807  480.832611\n",
       "min     50.000000   142.000000   131.000000   70.000000\n",
       "25%    146.250000   487.250000   437.250000  240.000000\n",
       "50%    242.500000   832.500000   743.500000  410.000000\n",
       "75%    338.750000  1177.750000  1049.750000  580.000000\n",
       "max    435.000000  1523.000000  1356.000000  750.000000"
      ]
     },
     "execution_count": 10,
     "metadata": {},
     "output_type": "execute_result"
    }
   ],
   "source": [
    "from scipy.stats import chi2_contingency\n",
    "buyers=pd.read_csv(\"BuyerRatio.csv\")\n",
    "buyers.describe()\n"
   ]
  },
  {
   "cell_type": "code",
   "execution_count": 13,
   "id": "4ec3b7e1",
   "metadata": {},
   "outputs": [],
   "source": [
    "table = [[50,142,131,70],\n",
    "        [435,1523,1356,750]]"
   ]
  },
  {
   "cell_type": "code",
   "execution_count": 37,
   "id": "9532745d",
   "metadata": {},
   "outputs": [
    {
     "data": {
      "text/plain": [
       "(1.595945538661058,\n",
       " 0.6603094907091882,\n",
       " 3,\n",
       " array([[  42.76531299,  146.81287862,  131.11756787,   72.30424052],\n",
       "        [ 442.23468701, 1518.18712138, 1355.88243213,  747.69575948]]))"
      ]
     },
     "execution_count": 37,
     "metadata": {},
     "output_type": "execute_result"
    }
   ],
   "source": [
    "exp_value=stats.chi2_contingency(table)\n",
    "exp_value"
   ]
  },
  {
   "cell_type": "code",
   "execution_count": 35,
   "id": "c273668d",
   "metadata": {},
   "outputs": [],
   "source": [
    "observed = np.array([50, 142, 131, 70, 435, 1523, 1356, 750])\n",
    "expected = np.array([42.76531299,  146.81287862,  131.11756787, 72.30424052, 442.23468701, 1518.18712138,\n",
    "                     1355.88243213, 747.69575948])"
   ]
  },
  {
   "cell_type": "code",
   "execution_count": 44,
   "id": "7a10f80c",
   "metadata": {},
   "outputs": [
    {
     "name": "stdout",
     "output_type": "stream",
     "text": [
      "1.5959455390914483\n",
      "0.8095206646905712\n"
     ]
    }
   ],
   "source": [
    "statistics, p_value = stats.chisquare(observed, expected,ddof=3)\n",
    "print(statistics)\n",
    "print(p_value)"
   ]
  },
  {
   "cell_type": "markdown",
   "id": "c0d23127",
   "metadata": {},
   "source": [
    "### Inferences: \n",
    "we accept null hypothesis, we failed to reject null hypothesis"
   ]
  },
  {
   "cell_type": "markdown",
   "id": "f2d1923f",
   "metadata": {},
   "source": [
    "# Q4"
   ]
  },
  {
   "cell_type": "markdown",
   "id": "bc749fc2",
   "metadata": {},
   "source": [
    "TeleCall uses 4 centers around the globe to process customer order forms. They audit a certain %  of the customer order forms. Any error in order form renders it defective and has to be reworked before processing.  The manager wants to check whether the defective %  varies by centre. Please analyze the data at 5% significance level and help the manager draw appropriate inferences\n"
   ]
  },
  {
   "cell_type": "markdown",
   "id": "1aa93d26",
   "metadata": {},
   "source": [
    "H0 : All defective % are equal\n",
    "\n",
    "H1 : one of them is different\n",
    "\n",
    "5% significance level"
   ]
  },
  {
   "cell_type": "code",
   "execution_count": 4,
   "id": "58ea8ede",
   "metadata": {},
   "outputs": [
    {
     "data": {
      "text/html": [
       "<div>\n",
       "<style scoped>\n",
       "    .dataframe tbody tr th:only-of-type {\n",
       "        vertical-align: middle;\n",
       "    }\n",
       "\n",
       "    .dataframe tbody tr th {\n",
       "        vertical-align: top;\n",
       "    }\n",
       "\n",
       "    .dataframe thead th {\n",
       "        text-align: right;\n",
       "    }\n",
       "</style>\n",
       "<table border=\"1\" class=\"dataframe\">\n",
       "  <thead>\n",
       "    <tr style=\"text-align: right;\">\n",
       "      <th></th>\n",
       "      <th>Phillippines</th>\n",
       "      <th>Indonesia</th>\n",
       "      <th>Malta</th>\n",
       "      <th>India</th>\n",
       "    </tr>\n",
       "  </thead>\n",
       "  <tbody>\n",
       "    <tr>\n",
       "      <th>0</th>\n",
       "      <td>Error Free</td>\n",
       "      <td>Error Free</td>\n",
       "      <td>Defective</td>\n",
       "      <td>Error Free</td>\n",
       "    </tr>\n",
       "    <tr>\n",
       "      <th>1</th>\n",
       "      <td>Error Free</td>\n",
       "      <td>Error Free</td>\n",
       "      <td>Error Free</td>\n",
       "      <td>Defective</td>\n",
       "    </tr>\n",
       "    <tr>\n",
       "      <th>2</th>\n",
       "      <td>Error Free</td>\n",
       "      <td>Defective</td>\n",
       "      <td>Defective</td>\n",
       "      <td>Error Free</td>\n",
       "    </tr>\n",
       "    <tr>\n",
       "      <th>3</th>\n",
       "      <td>Error Free</td>\n",
       "      <td>Error Free</td>\n",
       "      <td>Error Free</td>\n",
       "      <td>Error Free</td>\n",
       "    </tr>\n",
       "    <tr>\n",
       "      <th>4</th>\n",
       "      <td>Error Free</td>\n",
       "      <td>Error Free</td>\n",
       "      <td>Defective</td>\n",
       "      <td>Error Free</td>\n",
       "    </tr>\n",
       "    <tr>\n",
       "      <th>...</th>\n",
       "      <td>...</td>\n",
       "      <td>...</td>\n",
       "      <td>...</td>\n",
       "      <td>...</td>\n",
       "    </tr>\n",
       "    <tr>\n",
       "      <th>295</th>\n",
       "      <td>Error Free</td>\n",
       "      <td>Error Free</td>\n",
       "      <td>Error Free</td>\n",
       "      <td>Error Free</td>\n",
       "    </tr>\n",
       "    <tr>\n",
       "      <th>296</th>\n",
       "      <td>Error Free</td>\n",
       "      <td>Error Free</td>\n",
       "      <td>Error Free</td>\n",
       "      <td>Error Free</td>\n",
       "    </tr>\n",
       "    <tr>\n",
       "      <th>297</th>\n",
       "      <td>Error Free</td>\n",
       "      <td>Error Free</td>\n",
       "      <td>Defective</td>\n",
       "      <td>Error Free</td>\n",
       "    </tr>\n",
       "    <tr>\n",
       "      <th>298</th>\n",
       "      <td>Error Free</td>\n",
       "      <td>Error Free</td>\n",
       "      <td>Error Free</td>\n",
       "      <td>Error Free</td>\n",
       "    </tr>\n",
       "    <tr>\n",
       "      <th>299</th>\n",
       "      <td>Error Free</td>\n",
       "      <td>Defective</td>\n",
       "      <td>Defective</td>\n",
       "      <td>Error Free</td>\n",
       "    </tr>\n",
       "  </tbody>\n",
       "</table>\n",
       "<p>300 rows × 4 columns</p>\n",
       "</div>"
      ],
      "text/plain": [
       "    Phillippines   Indonesia       Malta       India\n",
       "0     Error Free  Error Free   Defective  Error Free\n",
       "1     Error Free  Error Free  Error Free   Defective\n",
       "2     Error Free   Defective   Defective  Error Free\n",
       "3     Error Free  Error Free  Error Free  Error Free\n",
       "4     Error Free  Error Free   Defective  Error Free\n",
       "..           ...         ...         ...         ...\n",
       "295   Error Free  Error Free  Error Free  Error Free\n",
       "296   Error Free  Error Free  Error Free  Error Free\n",
       "297   Error Free  Error Free   Defective  Error Free\n",
       "298   Error Free  Error Free  Error Free  Error Free\n",
       "299   Error Free   Defective   Defective  Error Free\n",
       "\n",
       "[300 rows x 4 columns]"
      ]
     },
     "execution_count": 4,
     "metadata": {},
     "output_type": "execute_result"
    }
   ],
   "source": [
    "customer=pd.read_csv('orderform')\n",
    "customer"
   ]
  },
  {
   "cell_type": "code",
   "execution_count": 5,
   "id": "90cf3152",
   "metadata": {},
   "outputs": [
    {
     "data": {
      "text/html": [
       "<div>\n",
       "<style scoped>\n",
       "    .dataframe tbody tr th:only-of-type {\n",
       "        vertical-align: middle;\n",
       "    }\n",
       "\n",
       "    .dataframe tbody tr th {\n",
       "        vertical-align: top;\n",
       "    }\n",
       "\n",
       "    .dataframe thead th {\n",
       "        text-align: right;\n",
       "    }\n",
       "</style>\n",
       "<table border=\"1\" class=\"dataframe\">\n",
       "  <thead>\n",
       "    <tr style=\"text-align: right;\">\n",
       "      <th></th>\n",
       "      <th>Phillippines</th>\n",
       "      <th>Indonesia</th>\n",
       "      <th>Malta</th>\n",
       "      <th>India</th>\n",
       "    </tr>\n",
       "  </thead>\n",
       "  <tbody>\n",
       "    <tr>\n",
       "      <th>count</th>\n",
       "      <td>300</td>\n",
       "      <td>300</td>\n",
       "      <td>300</td>\n",
       "      <td>300</td>\n",
       "    </tr>\n",
       "    <tr>\n",
       "      <th>unique</th>\n",
       "      <td>2</td>\n",
       "      <td>2</td>\n",
       "      <td>2</td>\n",
       "      <td>2</td>\n",
       "    </tr>\n",
       "    <tr>\n",
       "      <th>top</th>\n",
       "      <td>Error Free</td>\n",
       "      <td>Error Free</td>\n",
       "      <td>Error Free</td>\n",
       "      <td>Error Free</td>\n",
       "    </tr>\n",
       "    <tr>\n",
       "      <th>freq</th>\n",
       "      <td>271</td>\n",
       "      <td>267</td>\n",
       "      <td>269</td>\n",
       "      <td>280</td>\n",
       "    </tr>\n",
       "  </tbody>\n",
       "</table>\n",
       "</div>"
      ],
      "text/plain": [
       "       Phillippines   Indonesia       Malta       India\n",
       "count           300         300         300         300\n",
       "unique            2           2           2           2\n",
       "top      Error Free  Error Free  Error Free  Error Free\n",
       "freq            271         267         269         280"
      ]
     },
     "execution_count": 5,
     "metadata": {},
     "output_type": "execute_result"
    }
   ],
   "source": [
    "customer.describe()"
   ]
  },
  {
   "cell_type": "markdown",
   "id": "b5e6ebe5",
   "metadata": {},
   "source": [
    "\n",
    "# We are going to conduct a Test of Independence using Chi-Square Test"
   ]
  },
  {
   "cell_type": "code",
   "execution_count": 19,
   "id": "1874a916",
   "metadata": {},
   "outputs": [
    {
     "name": "stdout",
     "output_type": "stream",
     "text": [
      "Error Free    271\n",
      "Defective      29\n",
      "Name: Phillippines, dtype: int64 Error Free    267\n",
      "Defective      33\n",
      "Name: Indonesia, dtype: int64 Error Free    269\n",
      "Defective      31\n",
      "Name: Malta, dtype: int64 Error Free    280\n",
      "Defective      20\n",
      "Name: India, dtype: int64\n"
     ]
    }
   ],
   "source": [
    "print(customer['Phillippines'].value_counts(),customer['Indonesia'].value_counts(),customer['Malta'].value_counts(),customer['India'].value_counts())"
   ]
  },
  {
   "cell_type": "code",
   "execution_count": 32,
   "id": "f60c286a",
   "metadata": {},
   "outputs": [],
   "source": [
    "table2 = [[271,267,269,280],\n",
    "        [29,33,31,20]]"
   ]
  },
  {
   "cell_type": "code",
   "execution_count": 33,
   "id": "f9f41361",
   "metadata": {},
   "outputs": [
    {
     "data": {
      "text/plain": [
       "(3.858960685820355,\n",
       " 0.2771020991233135,\n",
       " 3,\n",
       " array([[271.75, 271.75, 271.75, 271.75],\n",
       "        [ 28.25,  28.25,  28.25,  28.25]]))"
      ]
     },
     "execution_count": 33,
     "metadata": {},
     "output_type": "execute_result"
    }
   ],
   "source": [
    "exp_value=stats.chi2_contingency(table2)\n",
    "exp_value"
   ]
  },
  {
   "cell_type": "code",
   "execution_count": 38,
   "id": "747653af",
   "metadata": {},
   "outputs": [],
   "source": [
    "observed = np.array([271,267,269,280,29,33,31,20])\n",
    "expected = np.array([271.75, 271.75, 271.75, 271.75,28.25,28.25,  28.25,  28.25])"
   ]
  },
  {
   "cell_type": "code",
   "execution_count": 39,
   "id": "e6760446",
   "metadata": {},
   "outputs": [
    {
     "name": "stdout",
     "output_type": "stream",
     "text": [
      "3.858960685820355\n",
      "0.4254298144535761\n"
     ]
    }
   ],
   "source": [
    "statistics, p_value = stats.chisquare(observed, expected,ddof=3)\n",
    "print(statistics)\n",
    "print(p_value)"
   ]
  },
  {
   "cell_type": "markdown",
   "id": "024f27da",
   "metadata": {},
   "source": [
    "# Inferences:\n",
    "we failed to accept null hypothesis, "
   ]
  },
  {
   "cell_type": "code",
   "execution_count": null,
   "id": "c0215ae4",
   "metadata": {},
   "outputs": [],
   "source": []
  }
 ],
 "metadata": {
  "kernelspec": {
   "display_name": "Python 3 (ipykernel)",
   "language": "python",
   "name": "python3"
  },
  "language_info": {
   "codemirror_mode": {
    "name": "ipython",
    "version": 3
   },
   "file_extension": ".py",
   "mimetype": "text/x-python",
   "name": "python",
   "nbconvert_exporter": "python",
   "pygments_lexer": "ipython3",
   "version": "3.9.13"
  }
 },
 "nbformat": 4,
 "nbformat_minor": 5
}
